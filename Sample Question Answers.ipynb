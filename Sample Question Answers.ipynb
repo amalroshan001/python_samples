{
 "cells": [
  {
   "cell_type": "markdown",
   "id": "2cdcae8c",
   "metadata": {},
   "source": [
    "### QSTN 1"
   ]
  },
  {
   "cell_type": "code",
   "execution_count": 56,
   "id": "6a16777b",
   "metadata": {},
   "outputs": [
    {
     "name": "stdout",
     "output_type": "stream",
     "text": [
      "Enter Size a : 4\n",
      "Enter Size b : 4\n",
      "Enter Size c : 5\n",
      "The Given Triangle is Equilateral\n"
     ]
    }
   ],
   "source": [
    "a=int(input('Enter Size a : '))\n",
    "b=int(input('Enter Size b : '))\n",
    "c=int(input('Enter Size c : '))\n",
    "if a==b==b :\n",
    "    print(\"The Given Triangle is Equilateral\")\n",
    "elif a==b or b==c or a==c:\n",
    "    print(\"The Given Triangle is Isosceles\")\n",
    "elif a!=b!=c:\n",
    "    print(\"The Given Triangle is Scalene\")"
   ]
  },
  {
   "cell_type": "markdown",
   "id": "2ff91616",
   "metadata": {},
   "source": [
    "### QSTN 2"
   ]
  },
  {
   "cell_type": "code",
   "execution_count": 54,
   "id": "a87b2da2",
   "metadata": {},
   "outputs": [
    {
     "name": "stdout",
     "output_type": "stream",
     "text": [
      "[2, 3, 4, 5, 6]\n"
     ]
    }
   ],
   "source": [
    "list1=[2,3,4,5,2,6,3,2]\n",
    "new_list=[]\n",
    "for i in list1:\n",
    "    if i not in new_list:\n",
    "        new_list.append(i)\n",
    "print(new_list)"
   ]
  },
  {
   "cell_type": "markdown",
   "id": "196313e5",
   "metadata": {},
   "source": [
    "### QSTN 3"
   ]
  },
  {
   "cell_type": "code",
   "execution_count": null,
   "id": "21bb29ed",
   "metadata": {},
   "outputs": [],
   "source": []
  },
  {
   "cell_type": "markdown",
   "id": "4ff5e86c",
   "metadata": {},
   "source": [
    "### QSTN 4"
   ]
  },
  {
   "cell_type": "code",
   "execution_count": 45,
   "id": "59a37fa1",
   "metadata": {},
   "outputs": [
    {
     "data": {
      "text/plain": [
       "True"
      ]
     },
     "execution_count": 45,
     "metadata": {},
     "output_type": "execute_result"
    }
   ],
   "source": [
    "def palindrome(x):\n",
    "    return x==x[::-1]\n",
    "palindrome(\"abjucujba\")"
   ]
  },
  {
   "cell_type": "markdown",
   "id": "7d7cb0b9",
   "metadata": {},
   "source": [
    "### QSTN 5"
   ]
  },
  {
   "cell_type": "code",
   "execution_count": 38,
   "id": "09a98eb7",
   "metadata": {},
   "outputs": [
    {
     "name": "stdout",
     "output_type": "stream",
     "text": [
      "[4, 9, 16, 25, 36]\n"
     ]
    }
   ],
   "source": [
    "x = [2,3,4,5,6]\n",
    "def square(i):\n",
    "    return i **2\n",
    "squared_list=list(map(square,x))\n",
    "print(squared_list)"
   ]
  },
  {
   "cell_type": "markdown",
   "id": "fb89fc7a",
   "metadata": {},
   "source": [
    "### QSTN 6"
   ]
  },
  {
   "cell_type": "code",
   "execution_count": 42,
   "id": "0313e105",
   "metadata": {},
   "outputs": [
    {
     "data": {
      "text/plain": [
       "[5, 15]"
      ]
     },
     "execution_count": 42,
     "metadata": {},
     "output_type": "execute_result"
    }
   ],
   "source": [
    "numbers = [3,5,7,9,23,15]\n",
    "list1=[]\n",
    "for i in numbers:\n",
    "    if i %5==0:\n",
    "        list1.append(i)\n",
    "list1"
   ]
  },
  {
   "cell_type": "markdown",
   "id": "0bea1ec7",
   "metadata": {},
   "source": [
    "### QSTN 7"
   ]
  },
  {
   "cell_type": "code",
   "execution_count": 14,
   "id": "2e173174",
   "metadata": {},
   "outputs": [
    {
     "name": "stdout",
     "output_type": "stream",
     "text": [
      "Odd Numbers Are :  [23, 51, 67]\n",
      "Even Numbers Are :  [2, 24, 46]\n"
     ]
    }
   ],
   "source": [
    "num = [2,23,24,51,46,67]\n",
    "odd = []\n",
    "even = []\n",
    "for i in num:\n",
    "    if i%2!=0:\n",
    "        odd.append(i)\n",
    "    elif i%2==0:\n",
    "        even.append(i)\n",
    "print(\"Odd Numbers Are : \",odd)\n",
    "print(\"Even Numbers Are : \",even)"
   ]
  },
  {
   "cell_type": "markdown",
   "id": "cf62db3f",
   "metadata": {},
   "source": [
    "### QSTN 8"
   ]
  },
  {
   "cell_type": "code",
   "execution_count": 17,
   "id": "5c25e1aa",
   "metadata": {},
   "outputs": [
    {
     "name": "stdout",
     "output_type": "stream",
     "text": [
      "Enter Choice Between(1-4) :3\n",
      "Enter Your First Number : 4\n",
      "Enter Your Second Number : 5\n",
      "Result :  20\n",
      "Simple Calculator\n",
      "1. Addition\n",
      "2. Subtraction\n",
      "3. Multiplication\n",
      "4. Division\n"
     ]
    }
   ],
   "source": [
    "def add (x,y):\n",
    "    return x+y\n",
    "def subtract (x,y):\n",
    "    return x-y\n",
    "def multiply (x,y):\n",
    "    return x*y\n",
    "def divide (x,y):\n",
    "    return x/y\n",
    "def calculator():\n",
    "    print(\"Simple Calculator\")\n",
    "    print(\"1. Addition\")\n",
    "    print(\"2. Subtraction\")\n",
    "    print(\"3. Multiplication\")\n",
    "    print(\"4. Division\")\n",
    "choice = int(input(\"Enter Choice Between(1-4) :\"))\n",
    "num1 = int(input(\"Enter Your First Number : \"))\n",
    "num2 = int(input(\"Enter Your Second Number : \"))\n",
    "if choice==1:\n",
    "    result = add(num1,num2)\n",
    "    print(\"Result : \",result)\n",
    "if choice==2:\n",
    "    result = subtract(num1,num2)\n",
    "    print(\"Result : \",result)\n",
    "if choice==3:\n",
    "    result = multiply(num1,num2)\n",
    "    print(\"Result : \",result)\n",
    "if choice==4:\n",
    "    result = divide(num1,num2)\n",
    "    print(\"Result : \",result)\n",
    "calculator()"
   ]
  },
  {
   "cell_type": "markdown",
   "id": "233941b2",
   "metadata": {},
   "source": [
    "### QSTN 9"
   ]
  },
  {
   "cell_type": "code",
   "execution_count": 47,
   "id": "85c31b9e",
   "metadata": {},
   "outputs": [
    {
     "name": "stdout",
     "output_type": "stream",
     "text": [
      "Enter The Radius Of The Circle : 4\n",
      "The area of the circle is: 50.27\n",
      "The perimeter of the circle is: 25.13\n"
     ]
    }
   ],
   "source": [
    "import math\n",
    "class Circle:\n",
    "    def __init__(self,radius):\n",
    "        self.radius = radius\n",
    "    def area(self):\n",
    "        return math.pi*self.radius**2\n",
    "    def perimeter(self):\n",
    "        return 2 * math.pi * self.radius\n",
    "radius = float(input(\"Enter The Radius Of The Circle : \"))\n",
    "val=Circle(radius)\n",
    "area=val.area()\n",
    "perimeter=val.perimeter()\n",
    "print(f\"The area of the circle is: {area:.2f}\")\n",
    "print(f\"The perimeter of the circle is: {perimeter:.2f}\")"
   ]
  },
  {
   "cell_type": "markdown",
   "id": "2bd4e595",
   "metadata": {},
   "source": [
    "### QSTN 10"
   ]
  },
  {
   "cell_type": "code",
   "execution_count": 53,
   "id": "735af161",
   "metadata": {},
   "outputs": [
    {
     "name": "stdout",
     "output_type": "stream",
     "text": [
      "Enter The First Number : 3\n",
      "Enter The Second Number : 3\n",
      "Sum of Numbers :  6.0\n",
      "Difference Of Numbers :  0.0\n",
      "Multiplication of Numbers :  9.0\n"
     ]
    }
   ],
   "source": [
    "class Addition:\n",
    "    def add(self,a,b):\n",
    "        return a+b\n",
    "class Subtraction:\n",
    "    def subtract(self,a,b):\n",
    "        return a-b   \n",
    "class Multiplication:\n",
    "    def multiply(self,a,b):\n",
    "        return a*b  \n",
    "class Calculator(Addition,Subtraction,Multiplication):\n",
    "    pass\n",
    "calculator = Calculator()\n",
    "num1=float(input(\"Enter The First Number : \"))\n",
    "num2=float(input(\"Enter The Second Number : \"))\n",
    "sums=calculator.add(num1,num2)\n",
    "difference=calculator.subtract(num1,num2)\n",
    "multipication=calculator.multiply(num1,num2)\n",
    "print(\"Sum of Numbers : \",sums)\n",
    "print(\"Difference Of Numbers : \",difference)\n",
    "print(\"Multiplication of Numbers : \",multipication)"
   ]
  },
  {
   "cell_type": "markdown",
   "id": "907c906b",
   "metadata": {},
   "source": [
    "### QSTN 11"
   ]
  },
  {
   "cell_type": "code",
   "execution_count": 44,
   "id": "bf9aca95",
   "metadata": {},
   "outputs": [
    {
     "name": "stdout",
     "output_type": "stream",
     "text": [
      "  * * * *\n",
      "   * * *\n",
      "    * *\n",
      "     *\n"
     ]
    }
   ],
   "source": [
    "for i in range(4,0,-1):\n",
    "    print(\" \"*(4-i),\" *\"*i)"
   ]
  },
  {
   "cell_type": "code",
   "execution_count": 3,
   "id": "4f7e6463",
   "metadata": {},
   "outputs": [],
   "source": [
    "for i in range(6,0):\n",
    "    print(' '*(6+i),' *'*i)"
   ]
  },
  {
   "cell_type": "code",
   "execution_count": null,
   "id": "739602bb",
   "metadata": {},
   "outputs": [],
   "source": []
  },
  {
   "cell_type": "code",
   "execution_count": null,
   "id": "d89fd6d6",
   "metadata": {},
   "outputs": [],
   "source": []
  },
  {
   "cell_type": "code",
   "execution_count": null,
   "id": "6024d60b",
   "metadata": {},
   "outputs": [],
   "source": []
  }
 ],
 "metadata": {
  "kernelspec": {
   "display_name": "Python 3 (ipykernel)",
   "language": "python",
   "name": "python3"
  },
  "language_info": {
   "codemirror_mode": {
    "name": "ipython",
    "version": 3
   },
   "file_extension": ".py",
   "mimetype": "text/x-python",
   "name": "python",
   "nbconvert_exporter": "python",
   "pygments_lexer": "ipython3",
   "version": "3.10.9"
  }
 },
 "nbformat": 4,
 "nbformat_minor": 5
}
